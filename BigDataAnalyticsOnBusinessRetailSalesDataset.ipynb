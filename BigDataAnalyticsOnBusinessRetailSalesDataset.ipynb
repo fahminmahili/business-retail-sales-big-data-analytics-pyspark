{
  "nbformat": 4,
  "nbformat_minor": 0,
  "metadata": {
    "colab": {
      "provenance": [],
      "gpuType": "T4",
      "mount_file_id": "1Kdb0loi3aBS_e0OnssDYvTpjCCQQiB3t",
      "authorship_tag": "ABX9TyMNwjyb0D9JHRi0JNZrXwkG",
      "include_colab_link": true
    },
    "kernelspec": {
      "name": "python3",
      "display_name": "Python 3"
    },
    "language_info": {
      "name": "python"
    },
    "accelerator": "GPU"
  },
  "cells": [
    {
      "cell_type": "markdown",
      "metadata": {
        "id": "view-in-github",
        "colab_type": "text"
      },
      "source": [
        "<a href=\"https://colab.research.google.com/github/fahminmahili/business-retail-sales-analytics-pyspark/blob/main/BigDataAnalyticsOnBusinessRetailSalesDataset.ipynb\" target=\"_parent\"><img src=\"https://colab.research.google.com/assets/colab-badge.svg\" alt=\"Open In Colab\"/></a>"
      ]
    },
    {
      "cell_type": "code",
      "execution_count": 26,
      "metadata": {
        "colab": {
          "base_uri": "https://localhost:8080/"
        },
        "id": "gMWAKQTkQF5O",
        "outputId": "acba36b4-2ec0-43a4-ea07-2ff97d21b9a4"
      },
      "outputs": [
        {
          "output_type": "stream",
          "name": "stdout",
          "text": [
            "Drive already mounted at /content/drive; to attempt to forcibly remount, call drive.mount(\"/content/drive\", force_remount=True).\n"
          ]
        }
      ],
      "source": [
        "from google.colab import drive\n",
        "drive.mount('/content/drive')"
      ]
    },
    {
      "cell_type": "markdown",
      "source": [
        "Task 1: Importing Required Libraries, Loading the Dataset, Performing RDD Transformations(map, filter, reduceByKey, count, and groupBy)"
      ],
      "metadata": {
        "id": "SU6NYytln3lG"
      }
    },
    {
      "cell_type": "code",
      "source": [
        "!pip install -q findspark\n"
      ],
      "metadata": {
        "id": "Eg8NEm_aQiWn"
      },
      "execution_count": 28,
      "outputs": []
    },
    {
      "cell_type": "code",
      "source": [
        "!pip install pyspark"
      ],
      "metadata": {
        "colab": {
          "base_uri": "https://localhost:8080/"
        },
        "id": "vfQEfPLhQ64J",
        "outputId": "332965d0-ae52-4f74-ee66-ed45996f59d4"
      },
      "execution_count": 30,
      "outputs": [
        {
          "output_type": "stream",
          "name": "stdout",
          "text": [
            "Requirement already satisfied: pyspark in /usr/local/lib/python3.10/dist-packages (3.5.0)\n",
            "Requirement already satisfied: py4j==0.10.9.7 in /usr/local/lib/python3.10/dist-packages (from pyspark) (0.10.9.7)\n"
          ]
        }
      ]
    },
    {
      "cell_type": "code",
      "source": [
        "from pyspark.sql import SparkSession\n",
        "\n",
        "spark = SparkSession.builder.appName(\"Big Data Analytics On Business Retail Sales Dataset\").getOrCreate()\n",
        "\n",
        "# Load the dataset\n",
        "file_path = \"/content/drive/MyDrive/Assignment2/superstore_dataset2011-2015.csv\"\n",
        "rdd_data = spark.read.csv(file_path, header=True, inferSchema=True)\n",
        "\n",
        "rdd_data.show()"
      ],
      "metadata": {
        "colab": {
          "base_uri": "https://localhost:8080/"
        },
        "id": "FofowngARMCV",
        "outputId": "993e2ed0-1b8d-418c-d508-4c17b0b4075b"
      },
      "execution_count": 8,
      "outputs": [
        {
          "output_type": "stream",
          "name": "stdout",
          "text": [
            "+------+---------------+----------+---------+--------------+-----------+-----------------+-----------+-------------+----------------+-------------+-----------+------+------------+----------------+---------------+------------+--------------------+-------+--------+--------+-------+-------------+--------------+\n",
            "|Row ID|       Order ID|Order Date|Ship Date|     Ship Mode|Customer ID|    Customer Name|    Segment|         City|           State|      Country|Postal Code|Market|      Region|      Product ID|       Category|Sub-Category|        Product Name|  Sales|Quantity|Discount| Profit|Shipping Cost|Order Priority|\n",
            "+------+---------------+----------+---------+--------------+-----------+-----------------+-----------+-------------+----------------+-------------+-----------+------+------------+----------------+---------------+------------+--------------------+-------+--------+--------+-------+-------------+--------------+\n",
            "| 42433|   AG-2011-2040|  1/1/2011| 6/1/2011|Standard Class|   TB-11280|  Toby Braunhardt|   Consumer|  Constantine|     Constantine|      Algeria|       NULL|Africa|      Africa|OFF-TEN-10000025|Office Supplies|     Storage| Tenex Lockers, Blue|  408.3|       2|       0| 106.14|        35.46|        Medium|\n",
            "| 22253|  IN-2011-47883|  1/1/2011| 8/1/2011|Standard Class|   JH-15985|      Joseph Holt|   Consumer|  Wagga Wagga| New South Wales|    Australia|       NULL|  APAC|     Oceania| OFF-SU-10000618|Office Supplies|    Supplies|Acme Trimmer, Hig...|120.366|       3|     0.1| 36.036|         9.72|        Medium|\n",
            "| 48883|   HU-2011-1220|  1/1/2011| 5/1/2011|  Second Class|     AT-735|    Annie Thurman|   Consumer|     Budapest|        Budapest|      Hungary|       NULL|  EMEA|        EMEA|OFF-TEN-10001585|Office Supplies|     Storage|Tenex Box, Single...|  66.12|       4|       0|  29.64|         8.17|          High|\n",
            "| 11731|IT-2011-3647632|  1/1/2011| 5/1/2011|  Second Class|   EM-14140|     Eugene Moren|Home Office|    Stockholm|       Stockholm|       Sweden|       NULL|    EU|       North| OFF-PA-10001492|Office Supplies|       Paper|Enermax Note Card...| 44.865|       3|     0.5|-26.055|         4.82|          High|\n",
            "| 22255|  IN-2011-47883|  1/1/2011| 8/1/2011|Standard Class|   JH-15985|      Joseph Holt|   Consumer|  Wagga Wagga| New South Wales|    Australia|       NULL|  APAC|     Oceania| FUR-FU-10003447|      Furniture| Furnishings|Eldon Light Bulb,...| 113.67|       5|     0.1|  37.77|          4.7|        Medium|\n",
            "| 22254|  IN-2011-47883|  1/1/2011| 8/1/2011|Standard Class|   JH-15985|      Joseph Holt|   Consumer|  Wagga Wagga| New South Wales|    Australia|       NULL|  APAC|     Oceania| OFF-PA-10001968|Office Supplies|       Paper|Eaton Computer Pr...| 55.242|       2|     0.1| 15.342|          1.8|        Medium|\n",
            "| 21613|  IN-2011-30733|  1/2/2011| 3/2/2011|  Second Class|   PO-18865|Patrick O'Donnell|   Consumer|        Dhaka|           Dhaka|   Bangladesh|       NULL|  APAC|Central Asia| TEC-CO-10002316|     Technology|     Copiers|Brother Personal ...| 285.78|       2|       0|   71.4|         57.3|      Critical|\n",
            "| 34662| CA-2011-115161|  1/2/2011| 3/2/2011|   First Class|   LC-17050|     Liz Carlisle|   Consumer|Mission Viejo|      California|United States|      92691|    US|        West| FUR-BO-10003966|      Furniture|   Bookcases|Sauder Facets Col...|290.666|       2|    0.15| 3.4196|        54.64|          High|\n",
            "| 44508|   AO-2011-1390|  1/2/2011| 4/2/2011|  Second Class|    DK-3150|   David Kendrick|  Corporate|       Luanda|          Luanda|       Angola|       NULL|Africa|      Africa|OFF-FEL-10001541|Office Supplies|     Storage|Fellowes Lockers,...|  206.4|       1|       0|  92.88|        53.08|      Critical|\n",
            "| 23688|  ID-2011-56493|  1/2/2011| 3/2/2011|  Second Class|   SP-20650| Stephanie Phelps|  Corporate|    Yingcheng|           Hubei|        China|       NULL|  APAC|  North Asia| OFF-ST-10002161|Office Supplies|     Storage|Tenex Trays, Sing...| 162.72|       3|       0|  68.31|        44.36|      Critical|\n",
            "| 25293|  IN-2011-36074|  1/2/2011| 5/2/2011|  Second Class|   DK-13150|   David Kendrick|  Corporate|    Chongqing|       Chongqing|        China|       NULL|  APAC|  North Asia| OFF-AP-10001254|Office Supplies|  Appliances|KitchenAid Coffee...| 352.35|       5|       0|  137.4|        33.15|        Medium|\n",
            "|  8483| US-2011-118892|  1/2/2011| 6/2/2011|Standard Class|   DH-13075|    Dave Hallsten|  Corporate|San Miguelito|          Panama|       Panama|       NULL| LATAM|     Central| OFF-AP-10002317|Office Supplies|  Appliances|Hamilton Beach Re...|400.704|       2|     0.4| 20.024|        21.38|        Medium|\n",
            "| 41445|   IR-2011-6550|  1/2/2011| 6/2/2011|Standard Class|    PO-8850|  Patrick O'Brill|   Consumer|      Mashhad| Razavi Khorasan|         Iran|       NULL|  EMEA|        EMEA|FUR-ADV-10002601|      Furniture| Furnishings|Advantus Photo Fr...|  309.6|       6|       0|  148.5|        19.65|          High|\n",
            "| 16727|ES-2011-5268439|  1/2/2011| 3/2/2011|  Second Class|   GH-14485|        Gene Hale|  Corporate|  La Rochelle|Poitou-Charentes|       France|       NULL|    EU|     Central| OFF-AR-10001529|Office Supplies|         Art|Binney & Smith Pe...| 139.65|       5|       0|   15.3|        19.23|          High|\n",
            "| 21615|  IN-2011-30733|  1/2/2011| 3/2/2011|  Second Class|   PO-18865|Patrick O'Donnell|   Consumer|        Dhaka|           Dhaka|   Bangladesh|       NULL|  APAC|Central Asia| OFF-SU-10000484|Office Supplies|    Supplies|Kleencut Ruler, H...|  40.68|       3|       0|  11.79|        11.13|      Critical|\n",
            "|  8484| US-2011-118892|  1/2/2011| 6/2/2011|Standard Class|   DH-13075|    Dave Hallsten|  Corporate|San Miguelito|          Panama|       Panama|       NULL| LATAM|     Central| TEC-AC-10001221|     Technology| Accessories|Memorex Memory Ca...| 81.984|       2|     0.4|-19.136|         6.21|        Medium|\n",
            "| 19796|ES-2011-5460465|  1/2/2011| 5/2/2011|Standard Class|   RR-19315|     Ralph Ritter|   Consumer|        Parma|  Emilia-Romagna|        Italy|       NULL|    EU|       South| OFF-AR-10000980|Office Supplies|         Art|Sanford Pencil Sh...|   78.3|       3|       0|  20.34|         6.03|        Medium|\n",
            "| 21614|  IN-2011-30733|  1/2/2011| 3/2/2011|  Second Class|   PO-18865|Patrick O'Donnell|   Consumer|        Dhaka|           Dhaka|   Bangladesh|       NULL|  APAC|Central Asia| OFF-BI-10003012|Office Supplies|     Binders|Wilson Jones Hole...|  22.65|       5|       0|    9.6|         5.29|      Critical|\n",
            "| 21616|  IN-2011-30733|  1/2/2011| 3/2/2011|  Second Class|   PO-18865|Patrick O'Donnell|   Consumer|        Dhaka|           Dhaka|   Bangladesh|       NULL|  APAC|Central Asia| OFF-LA-10001292|Office Supplies|      Labels|Smead File Folder...|  20.34|       3|       0|    9.9|         3.78|      Critical|\n",
            "| 16726|ES-2011-5268439|  1/2/2011| 3/2/2011|  Second Class|   GH-14485|        Gene Hale|  Corporate|  La Rochelle|Poitou-Charentes|       France|       NULL|    EU|     Central| OFF-EN-10004597|Office Supplies|   Envelopes|GlobeWeis Peel an...|  21.39|       1|       0|    0.0|         3.34|          High|\n",
            "+------+---------------+----------+---------+--------------+-----------+-----------------+-----------+-------------+----------------+-------------+-----------+------+------------+----------------+---------------+------------+--------------------+-------+--------+--------+-------+-------------+--------------+\n",
            "only showing top 20 rows\n",
            "\n"
          ]
        }
      ]
    },
    {
      "cell_type": "code",
      "source": [
        "# Import necessary functions\n",
        "from pyspark.sql.functions import col\n",
        "\n",
        "# Map Transformation\n",
        "mapped_rdd = rdd_data.rdd.map(lambda row: (row['Category'], row['Profit']))\n",
        "\n",
        "# Filter Transformation\n",
        "filtered_rdd = mapped_rdd.filter(lambda x: x[1] > 0)\n",
        "\n",
        "# Reduce Transformation\n",
        "reduced_rdd = filtered_rdd.reduceByKey(lambda x, y: x + y)\n",
        "\n",
        "# Count Transformation\n",
        "count_result = rdd_data.count()\n",
        "\n",
        "# GroupBy Transformation\n",
        "grouped_rdd = rdd_data.groupBy(\"Category\").agg({\"Profit\": \"sum\"})\n"
      ],
      "metadata": {
        "id": "i1bvV5sZRZTy"
      },
      "execution_count": 9,
      "outputs": []
    },
    {
      "cell_type": "code",
      "source": [
        "# Map Transformation\n",
        "mapped_rdd = rdd_data.rdd.map(lambda row: (row['Category'], row['Profit']))\n",
        "mapped_result = mapped_rdd.collect()\n",
        "print(\"Mapped Result:\")\n",
        "for result in mapped_result[:5]:  # Display the first 5 results for brevity\n",
        "    print(result)"
      ],
      "metadata": {
        "colab": {
          "base_uri": "https://localhost:8080/"
        },
        "id": "mOSeYSRXXYH1",
        "outputId": "290ba553-90b2-4940-ba7c-31d7ed794aa0"
      },
      "execution_count": 10,
      "outputs": [
        {
          "output_type": "stream",
          "name": "stdout",
          "text": [
            "Mapped Result:\n",
            "('Office Supplies', 106.14)\n",
            "('Office Supplies', 36.036)\n",
            "('Office Supplies', 29.64)\n",
            "('Office Supplies', -26.055)\n",
            "('Furniture', 37.77)\n"
          ]
        }
      ]
    },
    {
      "cell_type": "code",
      "source": [
        "# Filter Transformation\n",
        "filtered_rdd = mapped_rdd.filter(lambda x: x[1] > 0)\n",
        "filtered_result = filtered_rdd.collect()\n",
        "print(\"\\nFiltered Result:\")\n",
        "for result in filtered_result[:5]:  # Display the first 5 results for brevity\n",
        "    print(result)"
      ],
      "metadata": {
        "colab": {
          "base_uri": "https://localhost:8080/"
        },
        "id": "PaUE8FS0Z7Pd",
        "outputId": "f0add187-2df7-4737-d80a-06a137960031"
      },
      "execution_count": 11,
      "outputs": [
        {
          "output_type": "stream",
          "name": "stdout",
          "text": [
            "\n",
            "Filtered Result:\n",
            "('Office Supplies', 106.14)\n",
            "('Office Supplies', 36.036)\n",
            "('Office Supplies', 29.64)\n",
            "('Furniture', 37.77)\n",
            "('Office Supplies', 15.342)\n"
          ]
        }
      ]
    },
    {
      "cell_type": "code",
      "source": [
        "# Reduce Transformation\n",
        "reduced_rdd = filtered_rdd.reduceByKey(lambda x, y: x + y)\n",
        "reduced_result = reduced_rdd.collect()\n",
        "print(\"\\nReduced Result:\")\n",
        "for result in reduced_result[:5]:  # Display the first 5 results for brevity\n",
        "    print(result)"
      ],
      "metadata": {
        "colab": {
          "base_uri": "https://localhost:8080/"
        },
        "id": "kVob6e6aaDJn",
        "outputId": "429e56f6-c98f-46ff-8fd4-d2ccf30f26a4"
      },
      "execution_count": 12,
      "outputs": [
        {
          "output_type": "stream",
          "name": "stdout",
          "text": [
            "\n",
            "Reduced Result:\n",
            "('Furniture', 656161.5209000008)\n",
            "('Office Supplies', 779424.8878000025)\n",
            "('Technology', 950207.4800999991)\n"
          ]
        }
      ]
    },
    {
      "cell_type": "code",
      "source": [
        "# Count Transformation\n",
        "count_result = rdd_data.count()\n",
        "print(f\"\\nCount Result: {count_result}\")"
      ],
      "metadata": {
        "colab": {
          "base_uri": "https://localhost:8080/"
        },
        "id": "js4utVZ5aFN5",
        "outputId": "b8b3cb90-c39b-4146-9884-10068b6b46ad"
      },
      "execution_count": 13,
      "outputs": [
        {
          "output_type": "stream",
          "name": "stdout",
          "text": [
            "\n",
            "Count Result: 51290\n"
          ]
        }
      ]
    },
    {
      "cell_type": "code",
      "source": [
        "# GroupBy Transformation\n",
        "grouped_rdd = rdd_data.groupBy(\"Category\").agg({\"Profit\": \"sum\"})\n",
        "grouped_result = grouped_rdd.collect()\n",
        "print(\"\\nGrouped Result:\")\n",
        "grouped_rdd.show()"
      ],
      "metadata": {
        "colab": {
          "base_uri": "https://localhost:8080/"
        },
        "id": "7K-qmbClaHRp",
        "outputId": "eaf4303b-af2b-4f06-a418-db42665b6068"
      },
      "execution_count": 14,
      "outputs": [
        {
          "output_type": "stream",
          "name": "stdout",
          "text": [
            "\n",
            "Grouped Result:\n",
            "+---------------+------------------+\n",
            "|       Category|       sum(Profit)|\n",
            "+---------------+------------------+\n",
            "|Office Supplies|516615.91190000053|\n",
            "|      Furniture| 286439.8782000004|\n",
            "|     Technology| 663712.0816800005|\n",
            "+---------------+------------------+\n",
            "\n"
          ]
        }
      ]
    },
    {
      "cell_type": "markdown",
      "source": [
        "Task 2: Utilizing Spark SQL Queries (aggregation, filtering and sorting)\n"
      ],
      "metadata": {
        "id": "9zhJQSnjo-Y8"
      }
    },
    {
      "cell_type": "code",
      "source": [
        "from pyspark.sql import SparkSession\n",
        "\n",
        "# Create a temporary view\n",
        "rdd_data.createOrReplaceTempView(\"superstore_data\")\n",
        "\n",
        "# Write SQL queries\n",
        "aggregation_query = spark.sql(\"SELECT Category, SUM(Profit) as TotalProfit FROM superstore_data GROUP BY Category\")\n",
        "filtering_query = spark.sql(\"SELECT * FROM superstore_data WHERE Profit > 0\")\n",
        "sorting_query = spark.sql(\"SELECT * FROM superstore_data ORDER BY Profit DESC\")\n"
      ],
      "metadata": {
        "id": "7P893uhDpRGR"
      },
      "execution_count": 31,
      "outputs": []
    },
    {
      "cell_type": "code",
      "source": [
        "# Create a temporary view\n",
        "rdd_data.createOrReplaceTempView(\"superstore_data\")\n",
        "\n",
        "# Write SQL queries\n",
        "aggregation_query = spark.sql(\"SELECT Category, SUM(Profit) as TotalProfit FROM superstore_data GROUP BY Category\")\n",
        "print(\"Aggregation Query Result:\")\n",
        "aggregation_query.show()\n"
      ],
      "metadata": {
        "colab": {
          "base_uri": "https://localhost:8080/"
        },
        "id": "BzLpB5MEpYmH",
        "outputId": "3fd9f4d2-4b29-459e-f9bc-4e358ac9040d"
      },
      "execution_count": 32,
      "outputs": [
        {
          "output_type": "stream",
          "name": "stdout",
          "text": [
            "Aggregation Query Result:\n",
            "+---------------+------------------+\n",
            "|       Category|       TotalProfit|\n",
            "+---------------+------------------+\n",
            "|Office Supplies|516615.91190000053|\n",
            "|      Furniture| 286439.8782000004|\n",
            "|     Technology| 663712.0816800005|\n",
            "+---------------+------------------+\n",
            "\n"
          ]
        }
      ]
    },
    {
      "cell_type": "code",
      "source": [
        "filtering_query = spark.sql(\"SELECT * FROM superstore_data WHERE Profit > 0\")\n",
        "\n",
        "print(\"\\nFiltering Query Result:\")\n",
        "filtering_query.show()\n"
      ],
      "metadata": {
        "colab": {
          "base_uri": "https://localhost:8080/"
        },
        "id": "rTlZkUy3pbHo",
        "outputId": "0c06f278-f9ba-43dd-fbeb-406ebf8383a3"
      },
      "execution_count": 33,
      "outputs": [
        {
          "output_type": "stream",
          "name": "stdout",
          "text": [
            "\n",
            "Filtering Query Result:\n",
            "+------+---------------+----------+---------+--------------+-----------+-----------------+---------+-------------+--------------------+-------------+-----------+------+------------+----------------+---------------+------------+--------------------+-------+--------+--------+------+-------------+--------------+\n",
            "|Row ID|       Order ID|Order Date|Ship Date|     Ship Mode|Customer ID|    Customer Name|  Segment|         City|               State|      Country|Postal Code|Market|      Region|      Product ID|       Category|Sub-Category|        Product Name|  Sales|Quantity|Discount|Profit|Shipping Cost|Order Priority|\n",
            "+------+---------------+----------+---------+--------------+-----------+-----------------+---------+-------------+--------------------+-------------+-----------+------+------------+----------------+---------------+------------+--------------------+-------+--------+--------+------+-------------+--------------+\n",
            "| 42433|   AG-2011-2040|  1/1/2011| 6/1/2011|Standard Class|   TB-11280|  Toby Braunhardt| Consumer|  Constantine|         Constantine|      Algeria|       NULL|Africa|      Africa|OFF-TEN-10000025|Office Supplies|     Storage| Tenex Lockers, Blue|  408.3|       2|       0|106.14|        35.46|        Medium|\n",
            "| 22253|  IN-2011-47883|  1/1/2011| 8/1/2011|Standard Class|   JH-15985|      Joseph Holt| Consumer|  Wagga Wagga|     New South Wales|    Australia|       NULL|  APAC|     Oceania| OFF-SU-10000618|Office Supplies|    Supplies|Acme Trimmer, Hig...|120.366|       3|     0.1|36.036|         9.72|        Medium|\n",
            "| 48883|   HU-2011-1220|  1/1/2011| 5/1/2011|  Second Class|     AT-735|    Annie Thurman| Consumer|     Budapest|            Budapest|      Hungary|       NULL|  EMEA|        EMEA|OFF-TEN-10001585|Office Supplies|     Storage|Tenex Box, Single...|  66.12|       4|       0| 29.64|         8.17|          High|\n",
            "| 22255|  IN-2011-47883|  1/1/2011| 8/1/2011|Standard Class|   JH-15985|      Joseph Holt| Consumer|  Wagga Wagga|     New South Wales|    Australia|       NULL|  APAC|     Oceania| FUR-FU-10003447|      Furniture| Furnishings|Eldon Light Bulb,...| 113.67|       5|     0.1| 37.77|          4.7|        Medium|\n",
            "| 22254|  IN-2011-47883|  1/1/2011| 8/1/2011|Standard Class|   JH-15985|      Joseph Holt| Consumer|  Wagga Wagga|     New South Wales|    Australia|       NULL|  APAC|     Oceania| OFF-PA-10001968|Office Supplies|       Paper|Eaton Computer Pr...| 55.242|       2|     0.1|15.342|          1.8|        Medium|\n",
            "| 21613|  IN-2011-30733|  1/2/2011| 3/2/2011|  Second Class|   PO-18865|Patrick O'Donnell| Consumer|        Dhaka|               Dhaka|   Bangladesh|       NULL|  APAC|Central Asia| TEC-CO-10002316|     Technology|     Copiers|Brother Personal ...| 285.78|       2|       0|  71.4|         57.3|      Critical|\n",
            "| 34662| CA-2011-115161|  1/2/2011| 3/2/2011|   First Class|   LC-17050|     Liz Carlisle| Consumer|Mission Viejo|          California|United States|      92691|    US|        West| FUR-BO-10003966|      Furniture|   Bookcases|Sauder Facets Col...|290.666|       2|    0.15|3.4196|        54.64|          High|\n",
            "| 44508|   AO-2011-1390|  1/2/2011| 4/2/2011|  Second Class|    DK-3150|   David Kendrick|Corporate|       Luanda|              Luanda|       Angola|       NULL|Africa|      Africa|OFF-FEL-10001541|Office Supplies|     Storage|Fellowes Lockers,...|  206.4|       1|       0| 92.88|        53.08|      Critical|\n",
            "| 23688|  ID-2011-56493|  1/2/2011| 3/2/2011|  Second Class|   SP-20650| Stephanie Phelps|Corporate|    Yingcheng|               Hubei|        China|       NULL|  APAC|  North Asia| OFF-ST-10002161|Office Supplies|     Storage|Tenex Trays, Sing...| 162.72|       3|       0| 68.31|        44.36|      Critical|\n",
            "| 25293|  IN-2011-36074|  1/2/2011| 5/2/2011|  Second Class|   DK-13150|   David Kendrick|Corporate|    Chongqing|           Chongqing|        China|       NULL|  APAC|  North Asia| OFF-AP-10001254|Office Supplies|  Appliances|KitchenAid Coffee...| 352.35|       5|       0| 137.4|        33.15|        Medium|\n",
            "|  8483| US-2011-118892|  1/2/2011| 6/2/2011|Standard Class|   DH-13075|    Dave Hallsten|Corporate|San Miguelito|              Panama|       Panama|       NULL| LATAM|     Central| OFF-AP-10002317|Office Supplies|  Appliances|Hamilton Beach Re...|400.704|       2|     0.4|20.024|        21.38|        Medium|\n",
            "| 41445|   IR-2011-6550|  1/2/2011| 6/2/2011|Standard Class|    PO-8850|  Patrick O'Brill| Consumer|      Mashhad|     Razavi Khorasan|         Iran|       NULL|  EMEA|        EMEA|FUR-ADV-10002601|      Furniture| Furnishings|Advantus Photo Fr...|  309.6|       6|       0| 148.5|        19.65|          High|\n",
            "| 16727|ES-2011-5268439|  1/2/2011| 3/2/2011|  Second Class|   GH-14485|        Gene Hale|Corporate|  La Rochelle|    Poitou-Charentes|       France|       NULL|    EU|     Central| OFF-AR-10001529|Office Supplies|         Art|Binney & Smith Pe...| 139.65|       5|       0|  15.3|        19.23|          High|\n",
            "| 21615|  IN-2011-30733|  1/2/2011| 3/2/2011|  Second Class|   PO-18865|Patrick O'Donnell| Consumer|        Dhaka|               Dhaka|   Bangladesh|       NULL|  APAC|Central Asia| OFF-SU-10000484|Office Supplies|    Supplies|Kleencut Ruler, H...|  40.68|       3|       0| 11.79|        11.13|      Critical|\n",
            "| 19796|ES-2011-5460465|  1/2/2011| 5/2/2011|Standard Class|   RR-19315|     Ralph Ritter| Consumer|        Parma|      Emilia-Romagna|        Italy|       NULL|    EU|       South| OFF-AR-10000980|Office Supplies|         Art|Sanford Pencil Sh...|   78.3|       3|       0| 20.34|         6.03|        Medium|\n",
            "| 21614|  IN-2011-30733|  1/2/2011| 3/2/2011|  Second Class|   PO-18865|Patrick O'Donnell| Consumer|        Dhaka|               Dhaka|   Bangladesh|       NULL|  APAC|Central Asia| OFF-BI-10003012|Office Supplies|     Binders|Wilson Jones Hole...|  22.65|       5|       0|   9.6|         5.29|      Critical|\n",
            "| 21616|  IN-2011-30733|  1/2/2011| 3/2/2011|  Second Class|   PO-18865|Patrick O'Donnell| Consumer|        Dhaka|               Dhaka|   Bangladesh|       NULL|  APAC|Central Asia| OFF-LA-10001292|Office Supplies|      Labels|Smead File Folder...|  20.34|       3|       0|   9.9|         3.78|      Critical|\n",
            "| 14413|ES-2011-2205486|  1/2/2011| 7/2/2011|Standard Class|   IM-15055|    Ionia McGrath| Consumer|        Halle|North Rhine-Westp...|      Germany|       NULL|    EU|     Central| OFF-BI-10001249|Office Supplies|     Binders|Acco Hole Reinfor...|  21.06|       3|       0| 10.53|         1.86|        Medium|\n",
            "| 14414|ES-2011-2205486|  1/2/2011| 7/2/2011|Standard Class|   IM-15055|    Ionia McGrath| Consumer|        Halle|North Rhine-Westp...|      Germany|       NULL|    EU|     Central| OFF-BI-10001717|Office Supplies|     Binders|Avery Hole Reinfo...|  11.82|       2|       0|   4.2|         0.93|        Medium|\n",
            "| 44228|   CA-2011-1800|  1/3/2011| 4/3/2011|   First Class|   TP-11415|     Tom Prescott| Consumer|      Toronto|             Ontario|       Canada|       NULL|Canada|      Canada|OFF-FEL-10001405|Office Supplies|     Storage|Fellowes File Car...| 551.16|       4|       0| 71.64|       164.36|          High|\n",
            "+------+---------------+----------+---------+--------------+-----------+-----------------+---------+-------------+--------------------+-------------+-----------+------+------------+----------------+---------------+------------+--------------------+-------+--------+--------+------+-------------+--------------+\n",
            "only showing top 20 rows\n",
            "\n"
          ]
        }
      ]
    },
    {
      "cell_type": "code",
      "source": [
        "sorting_query = spark.sql(\"SELECT * FROM superstore_data ORDER BY Profit DESC\")\n",
        "\n",
        "print(\"\\nSorting Query Result:\")\n",
        "sorting_query.show()\n"
      ],
      "metadata": {
        "colab": {
          "base_uri": "https://localhost:8080/"
        },
        "id": "h-Eq0EScpd4w",
        "outputId": "8d3fe549-8a7b-4933-e936-044d1441aa24"
      },
      "execution_count": 35,
      "outputs": [
        {
          "output_type": "stream",
          "name": "stdout",
          "text": [
            "\n",
            "Sorting Query Result:\n",
            "+------+---------------+----------+----------+--------------+-----------+--------------------+-----------+-------------+----------------+--------------+-----------+------+------------+----------------+---------------+------------+--------------------+---------+--------+--------+---------+-------------+--------------+\n",
            "|Row ID|       Order ID|Order Date| Ship Date|     Ship Mode|Customer ID|       Customer Name|    Segment|         City|           State|       Country|Postal Code|Market|      Region|      Product ID|       Category|Sub-Category|        Product Name|    Sales|Quantity|Discount|   Profit|Shipping Cost|Order Priority|\n",
            "+------+---------------+----------+----------+--------------+-----------+--------------------+-----------+-------------+----------------+--------------+-----------+------+------------+----------------+---------------+------------+--------------------+---------+--------+--------+---------+-------------+--------------+\n",
            "| 38123| CA-2013-118689| 3/10/2013|10/10/2013|Standard Class|   TC-20980|        Tamara Chand|  Corporate|    Lafayette|         Indiana| United States|      47905|    US|     Central| TEC-CO-10004722|     Technology|     Copiers|Canon imageCLASS ...| 17499.95|       5|       0| 8399.976|       349.07|        Medium|\n",
            "| 39450| CA-2014-140151|24-03-2014|26-03-2014|   First Class|   RB-19360|        Raymond Buch|   Consumer|      Seattle|      Washington| United States|      98115|    US|        West| TEC-CO-10004722|     Technology|     Copiers|Canon imageCLASS ...| 13999.96|       4|       0|6719.9808|         20.0|        Medium|\n",
            "| 35487| CA-2014-166709|18-11-2014|23-11-2014|Standard Class|   HL-15040|        Hunter Lopez|   Consumer|       Newark|        Delaware| United States|      19711|    US|        East| TEC-CO-10004722|     Technology|     Copiers|Canon imageCLASS ...| 10499.97|       3|       0|5039.9856|       363.19|        Medium|\n",
            "| 40336| CA-2013-117121|18-12-2013|22-12-2013|Standard Class|   AB-10105|       Adrian Barton|   Consumer|      Detroit|        Michigan| United States|      48205|    US|     Central| OFF-BI-10000545|Office Supplies|     Binders|GBC Ibimaster 500...|  9892.74|      13|       0|  4946.37|        498.7|        Medium|\n",
            "| 35395| CA-2011-116904|23-09-2011|28-09-2011|Standard Class|   SC-20095|        Sanjit Chand|   Consumer|  Minneapolis|       Minnesota| United States|      55407|    US|     Central| OFF-BI-10001120|Office Supplies|     Binders|Ibico EPK-21 Elec...|  9449.95|       5|       0|4630.4755|       655.61|        Medium|\n",
            "| 12069|ES-2014-1651774|  8/9/2014|14-09-2014|Standard Class|   PJ-18835|       Patrick Jones|  Corporate|        Prato|         Tuscany|         Italy|       NULL|    EU|       South| OFF-AP-10004512|Office Supplies|  Appliances|   Hoover Stove, Red|  7958.58|      14|       0|  3979.08|       778.32|           Low|\n",
            "| 33920| CA-2014-127180|23-10-2014|25-10-2014|   First Class|   TA-21385|        Tom Ashbrook|Home Office|New York City|        New York| United States|      10024|    US|        East| TEC-CO-10004722|     Technology|     Copiers|Canon imageCLASS ...|11199.968|       4|     0.2|3919.9888|        45.98|          High|\n",
            "| 31806| CA-2012-145352|16-03-2012|22-03-2012|Standard Class|   CM-12385|Christopher Martinez|   Consumer|      Atlanta|         Georgia| United States|      30318|    US|       South| OFF-BI-10003527|Office Supplies|     Binders|Fellowes PB500 El...|  6354.95|       5|       0| 3177.475|       581.12|        Medium|\n",
            "| 27720|  ID-2011-64599| 10/2/2011|15-02-2011|Standard Class|   CA-11965|         Carol Adams|  Corporate|         Fuji|        Shizuoka|         Japan|       NULL|  APAC|  North Asia| TEC-PH-10000303|     Technology|      Phones|Samsung Smart Pho...|  6998.64|      11|       0|  2939.31|        413.8|        Medium|\n",
            "| 23212|  IN-2013-50809| 12/6/2013|17-06-2013|Standard Class|   CA-12775|     Cynthia Arntzen|   Consumer|         Kota|    Chhattisgarh|         India|       NULL|  APAC|Central Asia| TEC-PH-10000169|     Technology|      Phones|Apple Smart Phone...|  5751.54|       9|       0|  2817.99|       353.85|        Medium|\n",
            "| 39785| CA-2013-158841|  2/2/2013|  4/2/2013|  Second Class|   SE-20110|        Sanjit Engle|   Consumer|    Arlington|        Virginia| United States|      22204|    US|       South| TEC-MA-10001127|     Technology|    Machines|\"HP Designjet T52...|  8749.95|       5|       0| 2799.984|        17.83|      Critical|\n",
            "| 50788|   MO-2014-2000|28-10-2014|30-10-2014|  Second Class|    DP-3105|        Dave Poirier|  Corporate|       Meknes|Mekn�s-Tafilalet|       Morocco|       NULL|Africa|      Africa|TEC-CAN-10001437|     Technology|     Copiers|Canon Wireless Fa...|  5301.24|      14|       0|  2597.28|       568.45|        Medium|\n",
            "| 38963| US-2013-140158| 5/10/2013| 9/10/2013|Standard Class|   DR-12940|       Daniel Raglin|Home Office|   Providence|    Rhode Island| United States|       2908|    US|        East| TEC-CO-10001449|     Technology|     Copiers|Hewlett Packard L...|  5399.91|       9|       0|2591.9568|       254.03|        Medium|\n",
            "| 37817| CA-2014-138289|17-01-2014|19-01-2014|  Second Class|   AR-10540|         Andy Reiter|   Consumer|      Jackson|        Michigan| United States|      49201|    US|     Central| OFF-BI-10004995|Office Supplies|     Binders|GBC DocuBind P400...|  5443.96|       4|       0|2504.2216|       567.95|          High|\n",
            "| 13560|ES-2011-3248922|  8/9/2011| 11/9/2011|  Second Class|   ER-13855|   Elpida Rittenbach|  Corporate|         Lugo|         Galicia|         Spain|       NULL|    EU|       South| OFF-AP-10002330|Office Supplies|  Appliances|Hamilton Beach St...|  6517.08|      12|       0|  2476.44|        28.74|      Critical|\n",
            "| 12383|ES-2012-5671193|29-05-2012|29-05-2012|      Same Day|   MG-18145|     Mike Gockenbach|   Consumer|        Luton|         England|United Kingdom|       NULL|    EU|       North| TEC-PH-10004823|     Technology|      Phones|Nokia Smart Phone...|  5724.54|       9|       0|  2461.32|         2.34|        Medium|\n",
            "| 30958|  IN-2013-83191|16-12-2013|20-12-2013|Standard Class|   AS-10630|          Ann Steele|Home Office|    Whakatane|   Bay of Plenty|   New Zealand|       NULL|  APAC|     Oceania| TEC-PH-10002962|     Technology|      Phones|Motorola Smart Ph...|   6439.8|      10|       0|   2447.1|       255.36|        Medium|\n",
            "| 32382| US-2013-143819|  2/3/2013|  6/3/2013|Standard Class|   KD-16270|       Karen Daniels|   Consumer|      Yonkers|        New York| United States|      10701|    US|        East| TEC-MA-10003979|     Technology|    Machines|Ativa V4110MDD Mi...|  4899.93|       7|       0|2400.9657|       466.33|        Medium|\n",
            "| 35574| US-2013-107440|17-04-2013|21-04-2013|Standard Class|   BS-11365|        Bill Shonely|  Corporate|     Lakewood|      New Jersey| United States|       8701|    US|        East| TEC-MA-10001047|     Technology|    Machines|3D Systems Cube P...|  9099.93|       7|       0|2365.9818|       516.91|        Medium|\n",
            "| 21263|  IN-2014-56206|24-06-2014|28-06-2014|Standard Class|   MB-17305|     Maria Bertelson|   Consumer|       Sydney| New South Wales|     Australia|       NULL|  APAC|     Oceania| FUR-BO-10001471|      Furniture|   Bookcases|Sauder Classic Bo...|  5486.67|      14|     0.1|  2316.51|        346.6|        Medium|\n",
            "+------+---------------+----------+----------+--------------+-----------+--------------------+-----------+-------------+----------------+--------------+-----------+------+------------+----------------+---------------+------------+--------------------+---------+--------+--------+---------+-------------+--------------+\n",
            "only showing top 20 rows\n",
            "\n"
          ]
        }
      ]
    },
    {
      "cell_type": "markdown",
      "source": [
        "Task 3: Using Spark DataFrames (select, groupBy, orderBy)"
      ],
      "metadata": {
        "id": "iU9bTIHnqWey"
      }
    },
    {
      "cell_type": "code",
      "source": [
        "from pyspark.sql import SparkSession\n",
        "\n",
        "# Read the dataset using Spark DataFrames\n",
        "df_data = spark.read.csv(file_path, header=True, inferSchema=True)\n",
        "\n",
        "# Perform transformations and actions\n",
        "selected_df = df_data.select(\"Category\", \"Profit\")\n",
        "grouped_df = df_data.groupBy(\"Category\").agg({\"Profit\": \"sum\"})\n",
        "ordered_df = df_data.orderBy(\"Profit\", ascending=False)\n"
      ],
      "metadata": {
        "id": "vtUA6K_yqp_N"
      },
      "execution_count": 36,
      "outputs": []
    },
    {
      "cell_type": "code",
      "source": [
        "# Read the dataset using Spark DataFrames\n",
        "df_data = spark.read.csv(file_path, header=True, inferSchema=True)\n",
        "\n",
        "# Perform Select transformation\n",
        "print(\"Selected DataFrame:\")\n",
        "selected_df = df_data.select(\"Category\", \"Profit\")\n",
        "selected_df.show()\n"
      ],
      "metadata": {
        "colab": {
          "base_uri": "https://localhost:8080/"
        },
        "id": "iuT_RvKkqtNn",
        "outputId": "444e6a0d-d87c-4b93-b5a3-8632e6e23342"
      },
      "execution_count": 37,
      "outputs": [
        {
          "output_type": "stream",
          "name": "stdout",
          "text": [
            "Selected DataFrame:\n",
            "+---------------+-------+\n",
            "|       Category| Profit|\n",
            "+---------------+-------+\n",
            "|Office Supplies| 106.14|\n",
            "|Office Supplies| 36.036|\n",
            "|Office Supplies|  29.64|\n",
            "|Office Supplies|-26.055|\n",
            "|      Furniture|  37.77|\n",
            "|Office Supplies| 15.342|\n",
            "|     Technology|   71.4|\n",
            "|      Furniture| 3.4196|\n",
            "|Office Supplies|  92.88|\n",
            "|Office Supplies|  68.31|\n",
            "|Office Supplies|  137.4|\n",
            "|Office Supplies| 20.024|\n",
            "|      Furniture|  148.5|\n",
            "|Office Supplies|   15.3|\n",
            "|Office Supplies|  11.79|\n",
            "|     Technology|-19.136|\n",
            "|Office Supplies|  20.34|\n",
            "|Office Supplies|    9.6|\n",
            "|Office Supplies|    9.9|\n",
            "|Office Supplies|    0.0|\n",
            "+---------------+-------+\n",
            "only showing top 20 rows\n",
            "\n"
          ]
        }
      ]
    },
    {
      "cell_type": "code",
      "source": [
        "# Perform GroupBy transformation\n",
        "print(\"\\nGrouped DataFrame:\")\n",
        "grouped_df = df_data.groupBy(\"Category\").agg({\"Profit\": \"sum\"})\n",
        "grouped_df.show()\n"
      ],
      "metadata": {
        "colab": {
          "base_uri": "https://localhost:8080/"
        },
        "id": "QSqkQbLhqw2O",
        "outputId": "5f6891a1-c66a-4c10-c220-a9671b91bcad"
      },
      "execution_count": 38,
      "outputs": [
        {
          "output_type": "stream",
          "name": "stdout",
          "text": [
            "\n",
            "Grouped DataFrame:\n",
            "+---------------+------------------+\n",
            "|       Category|       sum(Profit)|\n",
            "+---------------+------------------+\n",
            "|Office Supplies|516615.91190000053|\n",
            "|      Furniture| 286439.8782000004|\n",
            "|     Technology| 663712.0816800005|\n",
            "+---------------+------------------+\n",
            "\n"
          ]
        }
      ]
    },
    {
      "cell_type": "code",
      "source": [
        "# Perform OrderBy transformation\n",
        "print(\"\\nOrdered DataFrame:\")\n",
        "ordered_df = df_data.orderBy(\"Profit\", ascending=False)\n",
        "ordered_df.show()\n"
      ],
      "metadata": {
        "colab": {
          "base_uri": "https://localhost:8080/"
        },
        "id": "yNVQWY0dqz1i",
        "outputId": "7128ecdc-93fe-4b00-8617-55c8c503d48d"
      },
      "execution_count": 39,
      "outputs": [
        {
          "output_type": "stream",
          "name": "stdout",
          "text": [
            "\n",
            "Ordered DataFrame:\n",
            "+------+---------------+----------+----------+--------------+-----------+--------------------+-----------+-------------+----------------+--------------+-----------+------+------------+----------------+---------------+------------+--------------------+---------+--------+--------+---------+-------------+--------------+\n",
            "|Row ID|       Order ID|Order Date| Ship Date|     Ship Mode|Customer ID|       Customer Name|    Segment|         City|           State|       Country|Postal Code|Market|      Region|      Product ID|       Category|Sub-Category|        Product Name|    Sales|Quantity|Discount|   Profit|Shipping Cost|Order Priority|\n",
            "+------+---------------+----------+----------+--------------+-----------+--------------------+-----------+-------------+----------------+--------------+-----------+------+------------+----------------+---------------+------------+--------------------+---------+--------+--------+---------+-------------+--------------+\n",
            "| 38123| CA-2013-118689| 3/10/2013|10/10/2013|Standard Class|   TC-20980|        Tamara Chand|  Corporate|    Lafayette|         Indiana| United States|      47905|    US|     Central| TEC-CO-10004722|     Technology|     Copiers|Canon imageCLASS ...| 17499.95|       5|       0| 8399.976|       349.07|        Medium|\n",
            "| 39450| CA-2014-140151|24-03-2014|26-03-2014|   First Class|   RB-19360|        Raymond Buch|   Consumer|      Seattle|      Washington| United States|      98115|    US|        West| TEC-CO-10004722|     Technology|     Copiers|Canon imageCLASS ...| 13999.96|       4|       0|6719.9808|         20.0|        Medium|\n",
            "| 35487| CA-2014-166709|18-11-2014|23-11-2014|Standard Class|   HL-15040|        Hunter Lopez|   Consumer|       Newark|        Delaware| United States|      19711|    US|        East| TEC-CO-10004722|     Technology|     Copiers|Canon imageCLASS ...| 10499.97|       3|       0|5039.9856|       363.19|        Medium|\n",
            "| 40336| CA-2013-117121|18-12-2013|22-12-2013|Standard Class|   AB-10105|       Adrian Barton|   Consumer|      Detroit|        Michigan| United States|      48205|    US|     Central| OFF-BI-10000545|Office Supplies|     Binders|GBC Ibimaster 500...|  9892.74|      13|       0|  4946.37|        498.7|        Medium|\n",
            "| 35395| CA-2011-116904|23-09-2011|28-09-2011|Standard Class|   SC-20095|        Sanjit Chand|   Consumer|  Minneapolis|       Minnesota| United States|      55407|    US|     Central| OFF-BI-10001120|Office Supplies|     Binders|Ibico EPK-21 Elec...|  9449.95|       5|       0|4630.4755|       655.61|        Medium|\n",
            "| 12069|ES-2014-1651774|  8/9/2014|14-09-2014|Standard Class|   PJ-18835|       Patrick Jones|  Corporate|        Prato|         Tuscany|         Italy|       NULL|    EU|       South| OFF-AP-10004512|Office Supplies|  Appliances|   Hoover Stove, Red|  7958.58|      14|       0|  3979.08|       778.32|           Low|\n",
            "| 33920| CA-2014-127180|23-10-2014|25-10-2014|   First Class|   TA-21385|        Tom Ashbrook|Home Office|New York City|        New York| United States|      10024|    US|        East| TEC-CO-10004722|     Technology|     Copiers|Canon imageCLASS ...|11199.968|       4|     0.2|3919.9888|        45.98|          High|\n",
            "| 31806| CA-2012-145352|16-03-2012|22-03-2012|Standard Class|   CM-12385|Christopher Martinez|   Consumer|      Atlanta|         Georgia| United States|      30318|    US|       South| OFF-BI-10003527|Office Supplies|     Binders|Fellowes PB500 El...|  6354.95|       5|       0| 3177.475|       581.12|        Medium|\n",
            "| 27720|  ID-2011-64599| 10/2/2011|15-02-2011|Standard Class|   CA-11965|         Carol Adams|  Corporate|         Fuji|        Shizuoka|         Japan|       NULL|  APAC|  North Asia| TEC-PH-10000303|     Technology|      Phones|Samsung Smart Pho...|  6998.64|      11|       0|  2939.31|        413.8|        Medium|\n",
            "| 23212|  IN-2013-50809| 12/6/2013|17-06-2013|Standard Class|   CA-12775|     Cynthia Arntzen|   Consumer|         Kota|    Chhattisgarh|         India|       NULL|  APAC|Central Asia| TEC-PH-10000169|     Technology|      Phones|Apple Smart Phone...|  5751.54|       9|       0|  2817.99|       353.85|        Medium|\n",
            "| 39785| CA-2013-158841|  2/2/2013|  4/2/2013|  Second Class|   SE-20110|        Sanjit Engle|   Consumer|    Arlington|        Virginia| United States|      22204|    US|       South| TEC-MA-10001127|     Technology|    Machines|\"HP Designjet T52...|  8749.95|       5|       0| 2799.984|        17.83|      Critical|\n",
            "| 50788|   MO-2014-2000|28-10-2014|30-10-2014|  Second Class|    DP-3105|        Dave Poirier|  Corporate|       Meknes|Mekn�s-Tafilalet|       Morocco|       NULL|Africa|      Africa|TEC-CAN-10001437|     Technology|     Copiers|Canon Wireless Fa...|  5301.24|      14|       0|  2597.28|       568.45|        Medium|\n",
            "| 38963| US-2013-140158| 5/10/2013| 9/10/2013|Standard Class|   DR-12940|       Daniel Raglin|Home Office|   Providence|    Rhode Island| United States|       2908|    US|        East| TEC-CO-10001449|     Technology|     Copiers|Hewlett Packard L...|  5399.91|       9|       0|2591.9568|       254.03|        Medium|\n",
            "| 37817| CA-2014-138289|17-01-2014|19-01-2014|  Second Class|   AR-10540|         Andy Reiter|   Consumer|      Jackson|        Michigan| United States|      49201|    US|     Central| OFF-BI-10004995|Office Supplies|     Binders|GBC DocuBind P400...|  5443.96|       4|       0|2504.2216|       567.95|          High|\n",
            "| 13560|ES-2011-3248922|  8/9/2011| 11/9/2011|  Second Class|   ER-13855|   Elpida Rittenbach|  Corporate|         Lugo|         Galicia|         Spain|       NULL|    EU|       South| OFF-AP-10002330|Office Supplies|  Appliances|Hamilton Beach St...|  6517.08|      12|       0|  2476.44|        28.74|      Critical|\n",
            "| 12383|ES-2012-5671193|29-05-2012|29-05-2012|      Same Day|   MG-18145|     Mike Gockenbach|   Consumer|        Luton|         England|United Kingdom|       NULL|    EU|       North| TEC-PH-10004823|     Technology|      Phones|Nokia Smart Phone...|  5724.54|       9|       0|  2461.32|         2.34|        Medium|\n",
            "| 30958|  IN-2013-83191|16-12-2013|20-12-2013|Standard Class|   AS-10630|          Ann Steele|Home Office|    Whakatane|   Bay of Plenty|   New Zealand|       NULL|  APAC|     Oceania| TEC-PH-10002962|     Technology|      Phones|Motorola Smart Ph...|   6439.8|      10|       0|   2447.1|       255.36|        Medium|\n",
            "| 32382| US-2013-143819|  2/3/2013|  6/3/2013|Standard Class|   KD-16270|       Karen Daniels|   Consumer|      Yonkers|        New York| United States|      10701|    US|        East| TEC-MA-10003979|     Technology|    Machines|Ativa V4110MDD Mi...|  4899.93|       7|       0|2400.9657|       466.33|        Medium|\n",
            "| 35574| US-2013-107440|17-04-2013|21-04-2013|Standard Class|   BS-11365|        Bill Shonely|  Corporate|     Lakewood|      New Jersey| United States|       8701|    US|        East| TEC-MA-10001047|     Technology|    Machines|3D Systems Cube P...|  9099.93|       7|       0|2365.9818|       516.91|        Medium|\n",
            "| 21263|  IN-2014-56206|24-06-2014|28-06-2014|Standard Class|   MB-17305|     Maria Bertelson|   Consumer|       Sydney| New South Wales|     Australia|       NULL|  APAC|     Oceania| FUR-BO-10001471|      Furniture|   Bookcases|Sauder Classic Bo...|  5486.67|      14|     0.1|  2316.51|        346.6|        Medium|\n",
            "+------+---------------+----------+----------+--------------+-----------+--------------------+-----------+-------------+----------------+--------------+-----------+------+------------+----------------+---------------+------------+--------------------+---------+--------+--------+---------+-------------+--------------+\n",
            "only showing top 20 rows\n",
            "\n"
          ]
        }
      ]
    }
  ]
}